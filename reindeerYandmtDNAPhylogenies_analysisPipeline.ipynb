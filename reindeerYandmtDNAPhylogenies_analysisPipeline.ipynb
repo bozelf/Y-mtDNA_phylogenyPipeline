{
 "cells": [
  {
   "cell_type": "markdown",
   "metadata": {},
   "source": [
    "## Quality control of raw sequencing data"
   ]
  },
  {
   "cell_type": "code",
   "execution_count": null,
   "metadata": {},
   "outputs": [],
   "source": [
    "# run fastp in default moder for 56 samples\n",
    "fastp -i sample_R1.fq.gz -I sample_R2.fq.gz -o sample_R1_trimmed.fq.gz -O sample_R2_trimmed.fq.gz\n",
    "\n",
    "# run fastqc for quality check\n",
    "# all good after fastqc, continue with trimmed reads"
   ]
  },
  {
   "cell_type": "markdown",
   "metadata": {},
   "source": [
    "# reindeerY1320 assembly"
   ]
  },
  {
   "cell_type": "code",
   "execution_count": null,
   "metadata": {},
   "outputs": [],
   "source": [
    "# For 3 reindeer merge trimmed read 1s in one file, merge trimmed read 2s in one file\n",
    "domFin_1.fq.gz\n",
    "domFin_2.fq.gz\n",
    "\n",
    "# Mapp the merged files to the female reindeer draft assembly\n",
    "bwa mem -M -t 16 female_reindeer_draft_assembly.fasta domFin_1.fq.gz domFin_2.fq.gz > domFin_mapped2_female_reindeer_draft_assembly.sam \n",
    "samtools view -S -b domFin_mapped2_female_reindeer_draft_assembly.sam > domFin_mapped2_female_reindeer_draft_assembly.bam\n",
    "\n",
    "# Collect unmapped reads\n",
    "samtools view -u -f 12 -F 256 domFin_mapped2_female_reindeer_draft_assembly.bam > domFin_mapped2_female_reindeer_draft_assembly_unMappedPairs.bam\n",
    "\n",
    "# Convert unmapped reads bam file to fastq\n",
    "bedtools bamtofastq -i domFin_mapped2_female_reindeer_draft_assembly_unMappedPairs.bam -fq domFin_mapped2_female_reindeer_draft_assembly_unMappedPairs_read1.fq -fq2 domFin_mapped2_female_reindeer_draft_assembly_unMappedPairs_read2.fq\n",
    "\n",
    "# Assemble the unmapped reads \n",
    "spades.py --careful --pe1-1 domFin_mapped2_female_reindeer_draft_assembly_unMappedPairs_read1.fq --pe1-2 domFin_mapped2_female_reindeer_draft_assembly_unMappedPairs_read2.fq -o domFin_unMappedPairsAssembly\n",
    "\n",
    "# Continue with the contigs longer than 300 bp\n",
    "domFin_unMappedPairsAssembly_300bp.fasta\n",
    "\n",
    "# run the probabilistic model to define single copy regions of the chromosome as detailed in Felkel et al., 2019"
   ]
  },
  {
   "cell_type": "markdown",
   "metadata": {},
   "source": [
    "# Placing reindeerY1320 contigs on OX460344.1"
   ]
  },
  {
   "cell_type": "code",
   "execution_count": null,
   "metadata": {},
   "outputs": [],
   "source": [
    "### For blastn alignment with 95 perc identity\n",
    "/usr/local/Cellar/blast/ncbi-blast-2.15.0+/bin/blastn -outfmt 6 -query /Volumes/elif_01/02_reindeer/reindeerSecondRound/analysis4review/alignment2newYchr/reindeerY1320.fasta -subject /Volumes/elif_01/02_reindeer/reindeerSecondRound/analysis4review/newYref/OX460344.1.fasta -out /Volumes/elif_01/02_reindeer/reindeerSecondRound/analysis4review/alignment2newYchr/blastAlign/OX460344.1-reindeerY1320_pident95_tab.txt -perc_identity 95\n",
    "# filter out the alignments shorter than \n",
    "\n",
    "\n",
    "### For MUMmer alignment and visualisaiton\n",
    "# align and create alignment report\n",
    "/usr/local/Cellar/MUMmer3.23/nucmer -maxmatch --prefix=OX460344.1-reindeerY1320 /Volumes/elif_01/02_reindeer/reindeerSecondRound/analysis4review/alignment2newYchr/OX460344.1.fasta /Volumes/elif_01/02_reindeer/reindeerSecondRound/analysis4review/alignment2newYchr/reindeerY1320.fasta \n",
    "/usr/local/Cellar/MUMmer3.23/show-coords -r -l -I -T -H /Volumes/elif_01/02_reindeer/reindeerSecondRound/analysis4review/alignment2newYchr/mummerAlign/OX460344.1-reindeerY1320.delta > /Volumes/elif_01/02_reindeer/reindeerSecondRound/analysis4review/alignment2newYchr/mummerAlign/OX460344.1-reindeerY1320.coords\n",
    "/usr/local/Cellar/MUMmer3.23/dnadiff -d /Volumes/elif_01/02_reindeer/reindeerSecondRound/analysis4review/alignment2newYchr/mummerAlign/OX460344.1-reindeerY1320.delta\n",
    "# for dot plot visualisation on https://dot.sandbox.bio/\n",
    "python3 DotPrep.py --delta OX460344.1-reindeerY1320.delta --out /Volumes/elif_01/02_reindeer/reindeerSecondRound/analysis4review/alignment2newYchr/mummerAlign"
   ]
  },
  {
   "cell_type": "markdown",
   "metadata": {},
   "source": [
    "# Phylogeny analysis on reindeerY1320"
   ]
  },
  {
   "cell_type": "markdown",
   "metadata": {},
   "source": [
    "### Mapping and filtering of trimmed read of samples on reindeerY1320"
   ]
  },
  {
   "cell_type": "code",
   "execution_count": null,
   "metadata": {},
   "outputs": [],
   "source": [
    "# Index the reference\n",
    "bwa index reindeerY1320.fasta\n",
    "\n",
    "# Mapp the trimmed reads from each sample\n",
    "bwa aln -t 36 -n 0.02 -l 200 reindeerY1320.fasta sample1_R1_trimmed.fq.gz > sample1_1.sai\n",
    "bwa aln -t 36 -n 0.02 -l 200 reindeerY1320.fasta sample1_R2_trimmed.fq.gz > sample1_2.sai\n",
    "bwa sampe reindeerY1320.fasta sample1_1.sai sample1_2.sai sample1_R1_trimmed.fq.gz sample1_R2_trimmed.fq.gz > sample1.sam\n",
    "\n",
    "# Process the mappings for each sample\n",
    "# get mapped and properly paired reads\n",
    "samtools view -h -b -S -F 4 -f 2 sample1.sam > sample1_mapped_pp.bam\n",
    "# sort the reads\n",
    "samtools sort sample1_mapped_pp.bam -o sample1_mapped_pp_sorted.bam\n",
    "# remove duplicates\n",
    "samtools rmdup -S sample1_mapped_pp_sorted.bam sample1_mapped_pp_sorted_rmdup.bam\n",
    "# keep the reads having at least 20 mapping quality\n",
    "samtools view -q 20 -b sample1_mapped_pp_sorted_rmdup.bam > sample1_mapped_pp_sorted_rmdup_mq20.bam\n",
    "\n",
    "# merge the bam files of the samples if a sample has multiple lanes\n",
    "samtools merge sample1_mapped_pp_sorted_rmdup_mq20_merged.bam sample1_1_mapped_pp_sorted_rmdup_mq20.bam sample1_2_mapped_pp_sorted_rmdup_mq20.bam sample1_3_mapped_pp_sorted_rmdup_mq20.bam\n",
    "\n",
    "# arrange readgroup info in the bam file if needed\n",
    "java -jar picard.jar AddOrReplaceReadGroups I=sample1_mapped_pp_sorted_rmdup_mq20_merged.bam O=sample1_mapped_pp_sorted_rmdup_mq20_merged_rg.bam RGID=sample_1 RGLB=sample_1 RGPL=ILLUMINA RGPU=sample_1 RGSM=sample_1\n",
    "\n",
    "# index the final bam file\n",
    "samtools index sample1_mapped_pp_sorted_rmdup_mq20_merged_rg.bam\n"
   ]
  },
  {
   "cell_type": "markdown",
   "metadata": {},
   "source": [
    "### Y chromosomal variant ascertainment and filtering"
   ]
  },
  {
   "cell_type": "code",
   "execution_count": null,
   "metadata": {},
   "outputs": [],
   "source": [
    "### 1. Variant ascertainment & filtering\n",
    "#for each different depth group of Rangifer and for moose SNPs following steps applied\n",
    "\n",
    "# freebayes calling/genotyping\n",
    "freebayes -p 1 --genotype-qualities --fasta-reference reindeerY1320.fasta --bam-list samplesList.txt --vcf samples_freebayes_p1.vcf\n",
    "\n",
    "# delete variants which does not show alternative call\n",
    "vcftools --vcf samples_freebayes_p1.vcf --non-ref-ac-any 1 --recode --recode-INFO-all --out samples_freebayes_p1_noHomoRef\n",
    "\n",
    "# remove complex variants\n",
    "grep -v 'TYPE=.*complex.*' samples_freebayes_p1_noHomoRef.recode.vcf > samples_freebayes_p1_noHomoRef_noComplex.vcf\n",
    "\n",
    "# remove multiallelic variants\n",
    "bcftools view --max-alleles 2 samples_freebayes_p1_noHomoRef_noComplex.vcf > samples_freebayes_p1_noHomoRef_noComplex_noMultiAllelic.vcf\n",
    "\n",
    "# bcftools normalisation\n",
    "bcftools norm -a -f reindeerY1320.fasta samples_freebayes_p1_noHomoRef_noComplex_noMultiAllelic.vcf -o samples_freebayes_p1_noHomoRef_noComplex_noMultiAllelic_bcftoolsnorm.vcf\n",
    "\n",
    "# filter for single copy Y reigon\n",
    "vcftools --vcf samples_freebayes_p1_noHomoRef_noComplex_noMultiAllelic_bcftoolsnorm.vcf --bed reindeerY1320_scY.bed --recode --recode-INFO-all --out samples_freebayes_p1_noHomoRef_noComplex_noMultiAllelic_bcftoolsnorm_scY\n",
    "\n",
    "# filter out variants in +- 50 contig ends \n",
    "vcftools --vcf samples_freebayes_p1_noHomoRef_noComplex_noMultiAllelic_bcftoolsnorm_scY.vcf --bed reindeerY1320_contigEnds50bpShorter.bed --recode --recode-INFO-all --out samples_freebayes_p1_noHomoRef_noComplex_noMultiAllelic_bcftoolsnorm_scY_contigendsShorter50bp\n",
    "\n",
    "# get snps from the final variant list\n",
    "bcftools view --types snps samples_freebayes_p1_noHomoRef_noComplex_noMultiAllelic_bcftoolsnorm_scY_contigendsShorter50bp.vcf > samples_freebayes_p1_noHomoRef_noComplex_noMultiAllelic_bcftoolsnorm_scY_contigendsShorter50bp_snps.vcf\n",
    "\n",
    "### 2. variant genotyping & filtering\n",
    "# merge and sort the SNPs detected in all different group in a bed file\n",
    "bedtools sort -i mergedSNPlist.bed > mergedSNPlist_sorted.bed\n",
    "bedtools merge -i mergedSNPlist_sorted > mergedSNPlist_sorted_merged.bed\n",
    "\n",
    "# genotype these SNPs with freebayes\n",
    "freebayes -p 1 --genotype-qualities --fasta-reference reindeerY1320.fasta --targets mergedSNPlist_sorted_merged.bed --bam-list allSamples.txt --vcf allSamples_genotyping_freebayes_p1.vcf --use-mapping-quality --min-mapping-quality 25 --min-base-quality 20\n",
    "\n",
    "# repeat the filtering steps in the first part when needed\n",
    "\n",
    "\n",
    "### 3. for furter filtering of the SNPs\n",
    "# count the number of alternative and reference position of each sample for each variant, decide to threshıold for filtering\n",
    "# estimate the mean coverages of the good quality variants in different sequencing depths, decide the thresholds\n",
    "# further check all of the variants left in the list and filter out if any:\n",
    "    # the assembly errors, \n",
    "    # normalization failure by bcftools\n",
    "    # missing calls\n",
    "    # multi-nucleotide polymorphisms\n",
    "    # variants in repetitive sequences\n",
    "    # variants determined in only one sample in heterozygous state\n",
    "    # recurrent variants. \n"
   ]
  },
  {
   "cell_type": "markdown",
   "metadata": {},
   "source": [
    "### Mapping reindeerY1320 variants on OX460344.1"
   ]
  },
  {
   "cell_type": "code",
   "execution_count": null,
   "metadata": {},
   "outputs": [],
   "source": [
    "# get flanking regions of the variants (+-30 the snp is in the middle)\n",
    "bedtools getfasta -name -fi reindeerY1320.fasta -bed variantFlankingRegions.bed -fo variantFlankingRegions.fa\n",
    "\n",
    "# map the flanking region fasta file to the new chromosome\n",
    "bwa aln -t 4 -n 0.02 -l 200 OX460344.1.fasta variantFlankingRegions.fa > variantFlankingRegions_mapped2OX460344-1.sai\n",
    "bwa samse OX460344.1.fasta variantFlankingRegions_mapped2OX460344-1.sai variantFlankingRegions.fa > variantFlankingRegions_mapped2OX460344-1.sam\n",
    "samtools view -h -b -S variantFlankingRegions_mapped2OX460344-1.sam > variantFlankingRegions_mapped2OX460344-1.sam.bam\n"
   ]
  },
  {
   "cell_type": "markdown",
   "metadata": {},
   "source": [
    "# mtDNA phylogeny analysis"
   ]
  },
  {
   "cell_type": "code",
   "execution_count": null,
   "metadata": {},
   "outputs": [],
   "source": [
    "### 1. mapping and filtering of the trimmed read of samples on MZ353654 is performed \n",
    "# The same tools and parameters used as in Y chromosomal analysis"
   ]
  },
  {
   "cell_type": "code",
   "execution_count": null,
   "metadata": {},
   "outputs": [],
   "source": [
    "### 2. create the multifasta alignment used in phylogeny\n",
    "\n",
    "# create consensus fastas for the mappings\n",
    "angsd -i sample1_mtMZ353654Mapped_pp_sorted_rmdup_mq20_merged_rg.bam -out sample1_mtMZ353654Mapped_pp_sorted_rmdup_mq20_merged_rg -doFasta 2 -doCounts 1 -setMinDepth 3 -minQ 20 -minMapQ 20\n",
    "gunzip sample1_mtMZ353654Mapped_pp_sorted_rmdup_mq20_merged_rg.fa.gz\n",
    "\n",
    "# merge the fasta files for all samples\n",
    "# align the multifasta file\n",
    "clustalo -i samples_mtMZ353654Mapped.fa -o samples_mtMZ353654Mapped_aligned.fa\n"
   ]
  }
 ],
 "metadata": {
  "kernelspec": {
   "display_name": "Python 3",
   "language": "python",
   "name": "python3"
  },
  "language_info": {
   "codemirror_mode": {
    "name": "ipython",
    "version": 3
   },
   "file_extension": ".py",
   "mimetype": "text/x-python",
   "name": "python",
   "nbconvert_exporter": "python",
   "pygments_lexer": "ipython3",
   "version": "3.7.4"
  }
 },
 "nbformat": 4,
 "nbformat_minor": 2
}
